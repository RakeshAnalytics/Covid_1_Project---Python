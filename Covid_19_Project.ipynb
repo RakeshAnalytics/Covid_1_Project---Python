{
 "cells": [
  {
   "cell_type": "code",
   "execution_count": 1,
   "id": "6478940d-48bd-4d19-acd0-07f9d609133f",
   "metadata": {},
   "outputs": [],
   "source": [
    "import pandas as pd\n",
    "import numpy as np\n",
    "import matplotlib.pyplot as plt\n",
    "import seaborn as sns"
   ]
  },
  {
   "cell_type": "code",
   "execution_count": 2,
   "id": "a463f911-44b4-4c96-ae7d-87324f7da1fa",
   "metadata": {},
   "outputs": [],
   "source": [
    "Country_Wise     = pd.read_csv(r'C:\\Users\\admin\\Desktop\\Practice Assignment for Python\\Covid-19\\country_wise_latest.csv')\n",
    "Clean_Complete   = pd.read_csv(r'C:\\Users\\admin\\Desktop\\Practice Assignment for Python\\Covid-19\\covid_19_clean_complete.csv')\n",
    "Day_Wise         = pd.read_csv(r'C:\\Users\\admin\\Desktop\\Practice Assignment for Python\\Covid-19\\day_wise.csv')\n",
    "Full_Grouped     = pd.read_csv(r'C:\\Users\\admin\\Desktop\\Practice Assignment for Python\\Covid-19\\full_grouped.csv')\n",
    "USA_Country      = pd.read_csv(r'C:\\Users\\admin\\Desktop\\Practice Assignment for Python\\Covid-19\\usa_country_wise.csv')\n",
    "Worldometer_data = pd.read_csv(r'C:\\Users\\admin\\Desktop\\Practice Assignment for Python\\Covid-19\\worldometer_data.csv')"
   ]
  },
  {
   "cell_type": "markdown",
   "id": "29f9dac5-a4dc-4e6a-908a-d948532f194c",
   "metadata": {},
   "source": [
    "# Data Cleaning Of Country_Wise Table"
   ]
  },
  {
   "cell_type": "code",
   "execution_count": 3,
   "id": "a8e838e4-93f7-4a15-9373-7c21f62c737c",
   "metadata": {},
   "outputs": [
    {
     "data": {
      "text/html": [
       "<div>\n",
       "<style scoped>\n",
       "    .dataframe tbody tr th:only-of-type {\n",
       "        vertical-align: middle;\n",
       "    }\n",
       "\n",
       "    .dataframe tbody tr th {\n",
       "        vertical-align: top;\n",
       "    }\n",
       "\n",
       "    .dataframe thead th {\n",
       "        text-align: right;\n",
       "    }\n",
       "</style>\n",
       "<table border=\"1\" class=\"dataframe\">\n",
       "  <thead>\n",
       "    <tr style=\"text-align: right;\">\n",
       "      <th></th>\n",
       "      <th>Country/Region</th>\n",
       "      <th>Confirmed</th>\n",
       "      <th>Deaths</th>\n",
       "      <th>Recovered</th>\n",
       "      <th>Active</th>\n",
       "      <th>New cases</th>\n",
       "      <th>New deaths</th>\n",
       "      <th>New recovered</th>\n",
       "      <th>Deaths / 100 Cases</th>\n",
       "      <th>Recovered / 100 Cases</th>\n",
       "      <th>Deaths / 100 Recovered</th>\n",
       "      <th>Confirmed last week</th>\n",
       "      <th>1 week change</th>\n",
       "      <th>1 week % increase</th>\n",
       "      <th>WHO Region</th>\n",
       "    </tr>\n",
       "  </thead>\n",
       "  <tbody>\n",
       "    <tr>\n",
       "      <th>0</th>\n",
       "      <td>Afghanistan</td>\n",
       "      <td>36263</td>\n",
       "      <td>1269</td>\n",
       "      <td>25198</td>\n",
       "      <td>9796</td>\n",
       "      <td>106</td>\n",
       "      <td>10</td>\n",
       "      <td>18</td>\n",
       "      <td>3.5</td>\n",
       "      <td>69.49</td>\n",
       "      <td>5.04</td>\n",
       "      <td>35526</td>\n",
       "      <td>737</td>\n",
       "      <td>2.07</td>\n",
       "      <td>Eastern Mediterranean</td>\n",
       "    </tr>\n",
       "  </tbody>\n",
       "</table>\n",
       "</div>"
      ],
      "text/plain": [
       "  Country/Region  Confirmed  Deaths  Recovered  Active  New cases  New deaths  \\\n",
       "0    Afghanistan      36263    1269      25198    9796        106          10   \n",
       "\n",
       "   New recovered  Deaths / 100 Cases  Recovered / 100 Cases  \\\n",
       "0             18                 3.5                  69.49   \n",
       "\n",
       "   Deaths / 100 Recovered  Confirmed last week  1 week change  \\\n",
       "0                    5.04                35526            737   \n",
       "\n",
       "   1 week % increase             WHO Region  \n",
       "0               2.07  Eastern Mediterranean  "
      ]
     },
     "execution_count": 3,
     "metadata": {},
     "output_type": "execute_result"
    }
   ],
   "source": [
    "Country_Wise.head(1)"
   ]
  },
  {
   "cell_type": "code",
   "execution_count": 4,
   "id": "0431f651-f26e-4824-b15b-7713fd715ce0",
   "metadata": {},
   "outputs": [
    {
     "name": "stdout",
     "output_type": "stream",
     "text": [
      "Total Rows & Columns is:  (187, 15)\n"
     ]
    }
   ],
   "source": [
    "print(f\"Total Rows & Columns is: \",Country_Wise.shape)\n"
   ]
  },
  {
   "cell_type": "code",
   "execution_count": 5,
   "id": "10963e8d-add8-4d09-8d7c-0ea9f2b7612b",
   "metadata": {},
   "outputs": [
    {
     "name": "stdout",
     "output_type": "stream",
     "text": [
      "<class 'pandas.core.frame.DataFrame'>\n",
      "RangeIndex: 187 entries, 0 to 186\n",
      "Data columns (total 15 columns):\n",
      " #   Column                  Non-Null Count  Dtype  \n",
      "---  ------                  --------------  -----  \n",
      " 0   Country/Region          187 non-null    object \n",
      " 1   Confirmed               187 non-null    int64  \n",
      " 2   Deaths                  187 non-null    int64  \n",
      " 3   Recovered               187 non-null    int64  \n",
      " 4   Active                  187 non-null    int64  \n",
      " 5   New cases               187 non-null    int64  \n",
      " 6   New deaths              187 non-null    int64  \n",
      " 7   New recovered           187 non-null    int64  \n",
      " 8   Deaths / 100 Cases      187 non-null    float64\n",
      " 9   Recovered / 100 Cases   187 non-null    float64\n",
      " 10  Deaths / 100 Recovered  187 non-null    float64\n",
      " 11  Confirmed last week     187 non-null    int64  \n",
      " 12  1 week change           187 non-null    int64  \n",
      " 13  1 week % increase       187 non-null    float64\n",
      " 14  WHO Region              187 non-null    object \n",
      "dtypes: float64(4), int64(9), object(2)\n",
      "memory usage: 22.0+ KB\n"
     ]
    }
   ],
   "source": [
    "Country_Wise.info()"
   ]
  },
  {
   "cell_type": "code",
   "execution_count": 6,
   "id": "c2a51640-d9e2-403c-bb62-29d369a80131",
   "metadata": {},
   "outputs": [
    {
     "name": "stdout",
     "output_type": "stream",
     "text": [
      "The Duplicate Value is:  0\n",
      "The missing values are belows:\n",
      "Country/Region            0\n",
      "Confirmed                 0\n",
      "Deaths                    0\n",
      "Recovered                 0\n",
      "Active                    0\n",
      "New cases                 0\n",
      "New deaths                0\n",
      "New recovered             0\n",
      "Deaths / 100 Cases        0\n",
      "Recovered / 100 Cases     0\n",
      "Deaths / 100 Recovered    0\n",
      "Confirmed last week       0\n",
      "1 week change             0\n",
      "1 week % increase         0\n",
      "WHO Region                0\n",
      "dtype: int64\n"
     ]
    }
   ],
   "source": [
    "# checking duplicate values in dataset\n",
    "print(f\"The Duplicate Value is: \", Country_Wise.duplicated().sum())\n",
    "\n",
    "# checking null values\n",
    "missing_values = Country_Wise.isnull().sum()\n",
    "print(f\"The missing values are belows:\\n{missing_values}\")\n"
   ]
  },
  {
   "cell_type": "code",
   "execution_count": null,
   "id": "a7afb45d-923d-464b-8671-6f7006f557e2",
   "metadata": {},
   "outputs": [],
   "source": []
  },
  {
   "cell_type": "markdown",
   "id": "7cb7b300-8e6b-4898-871e-d0fb9e00ad01",
   "metadata": {},
   "source": [
    "# Data Cleaning Of Clean_Complete Table"
   ]
  },
  {
   "cell_type": "code",
   "execution_count": 7,
   "id": "00bef674-68b5-42d4-800b-0b8a5804fc1d",
   "metadata": {},
   "outputs": [
    {
     "data": {
      "text/html": [
       "<div>\n",
       "<style scoped>\n",
       "    .dataframe tbody tr th:only-of-type {\n",
       "        vertical-align: middle;\n",
       "    }\n",
       "\n",
       "    .dataframe tbody tr th {\n",
       "        vertical-align: top;\n",
       "    }\n",
       "\n",
       "    .dataframe thead th {\n",
       "        text-align: right;\n",
       "    }\n",
       "</style>\n",
       "<table border=\"1\" class=\"dataframe\">\n",
       "  <thead>\n",
       "    <tr style=\"text-align: right;\">\n",
       "      <th></th>\n",
       "      <th>Province/State</th>\n",
       "      <th>Country/Region</th>\n",
       "      <th>Lat</th>\n",
       "      <th>Long</th>\n",
       "      <th>Date</th>\n",
       "      <th>Confirmed</th>\n",
       "      <th>Deaths</th>\n",
       "      <th>Recovered</th>\n",
       "      <th>Active</th>\n",
       "      <th>WHO Region</th>\n",
       "    </tr>\n",
       "  </thead>\n",
       "  <tbody>\n",
       "    <tr>\n",
       "      <th>0</th>\n",
       "      <td>NaN</td>\n",
       "      <td>Afghanistan</td>\n",
       "      <td>33.93911</td>\n",
       "      <td>67.709953</td>\n",
       "      <td>2020-01-22</td>\n",
       "      <td>0</td>\n",
       "      <td>0</td>\n",
       "      <td>0</td>\n",
       "      <td>0</td>\n",
       "      <td>Eastern Mediterranean</td>\n",
       "    </tr>\n",
       "  </tbody>\n",
       "</table>\n",
       "</div>"
      ],
      "text/plain": [
       "  Province/State Country/Region       Lat       Long        Date  Confirmed  \\\n",
       "0            NaN    Afghanistan  33.93911  67.709953  2020-01-22          0   \n",
       "\n",
       "   Deaths  Recovered  Active             WHO Region  \n",
       "0       0          0       0  Eastern Mediterranean  "
      ]
     },
     "execution_count": 7,
     "metadata": {},
     "output_type": "execute_result"
    }
   ],
   "source": [
    "Clean_Complete.head(1)"
   ]
  },
  {
   "cell_type": "code",
   "execution_count": 8,
   "id": "a133dd4c-1a1b-4b20-8414-98effec9bcaf",
   "metadata": {},
   "outputs": [
    {
     "name": "stdout",
     "output_type": "stream",
     "text": [
      "Total Rows & Columns is:  (49068, 10)\n",
      "<class 'pandas.core.frame.DataFrame'>\n",
      "RangeIndex: 49068 entries, 0 to 49067\n",
      "Data columns (total 10 columns):\n",
      " #   Column          Non-Null Count  Dtype  \n",
      "---  ------          --------------  -----  \n",
      " 0   Province/State  14664 non-null  object \n",
      " 1   Country/Region  49068 non-null  object \n",
      " 2   Lat             49068 non-null  float64\n",
      " 3   Long            49068 non-null  float64\n",
      " 4   Date            49068 non-null  object \n",
      " 5   Confirmed       49068 non-null  int64  \n",
      " 6   Deaths          49068 non-null  int64  \n",
      " 7   Recovered       49068 non-null  int64  \n",
      " 8   Active          49068 non-null  int64  \n",
      " 9   WHO Region      49068 non-null  object \n",
      "dtypes: float64(2), int64(4), object(4)\n",
      "memory usage: 3.7+ MB\n"
     ]
    }
   ],
   "source": [
    "print(f\"Total Rows & Columns is: \",Clean_Complete.shape)\n",
    "Clean_Complete.info()"
   ]
  },
  {
   "cell_type": "code",
   "execution_count": 9,
   "id": "bc7b2150-42c1-4e27-8697-391f1e1c0f67",
   "metadata": {},
   "outputs": [
    {
     "data": {
      "text/plain": [
       "Province/State            object\n",
       "Country/Region            object\n",
       "Lat                      float64\n",
       "Long                     float64\n",
       "Date              datetime64[ns]\n",
       "Confirmed                  int64\n",
       "Deaths                     int64\n",
       "Recovered                  int64\n",
       "Active                     int64\n",
       "WHO Region                object\n",
       "dtype: object"
      ]
     },
     "execution_count": 9,
     "metadata": {},
     "output_type": "execute_result"
    }
   ],
   "source": [
    "# Changing Datatype of Date object into datetime\n",
    "Clean_Complete['Date']=pd.to_datetime(Clean_Complete['Date'])\n",
    "# Clean_Complete['Date']=Clean_Complete['Date'].dt.date\n",
    "\n",
    "# checking again columns datatypes\n",
    "Clean_Complete.dtypes"
   ]
  },
  {
   "cell_type": "code",
   "execution_count": 10,
   "id": "47c98810-dcd1-4ecb-9ffd-781eeb2393dc",
   "metadata": {},
   "outputs": [
    {
     "name": "stdout",
     "output_type": "stream",
     "text": [
      "The Duplicate Value is:  0\n",
      "The missing values are belows:\n",
      "Province/State    34404\n",
      "Country/Region        0\n",
      "Lat                   0\n",
      "Long                  0\n",
      "Date                  0\n",
      "Confirmed             0\n",
      "Deaths                0\n",
      "Recovered             0\n",
      "Active                0\n",
      "WHO Region            0\n",
      "dtype: int64\n"
     ]
    },
    {
     "name": "stderr",
     "output_type": "stream",
     "text": [
      "C:\\Users\\admin\\AppData\\Local\\Temp\\ipykernel_11648\\4243664809.py:9: FutureWarning: A value is trying to be set on a copy of a DataFrame or Series through chained assignment using an inplace method.\n",
      "The behavior will change in pandas 3.0. This inplace method will never work because the intermediate object on which we are setting values always behaves as a copy.\n",
      "\n",
      "For example, when doing 'df[col].method(value, inplace=True)', try using 'df.method({col: value}, inplace=True)' or df[col] = df[col].method(value) instead, to perform the operation inplace on the original object.\n",
      "\n",
      "\n",
      "  Clean_Complete['Province/State'].fillna(Clean_Complete['Province/State'].mode()[0],inplace=True)\n"
     ]
    }
   ],
   "source": [
    "\n",
    "# checking duplicate values in dataset\n",
    "print(f\"The Duplicate Value is: \", Clean_Complete.duplicated().sum())\n",
    "\n",
    "# checking null values\n",
    "missing_values = Clean_Complete.isnull().sum()\n",
    "print(f\"The missing values are belows:\\n{missing_values}\")\n",
    "\n",
    "# filling null values with mode of Province/State columns\n",
    "Clean_Complete['Province/State'].fillna(Clean_Complete['Province/State'].mode()[0],inplace=True)"
   ]
  },
  {
   "cell_type": "code",
   "execution_count": null,
   "id": "c0e8e33a-3fce-4b6d-a55e-da9e3b995c9e",
   "metadata": {},
   "outputs": [],
   "source": []
  },
  {
   "cell_type": "markdown",
   "id": "495c23b9-aeac-414c-b5fd-66115cec872d",
   "metadata": {},
   "source": [
    "# Data Cleaning Of Day_Wise Table"
   ]
  },
  {
   "cell_type": "code",
   "execution_count": 11,
   "id": "25b073df-3c76-4674-ae84-f36d2ff04aba",
   "metadata": {},
   "outputs": [
    {
     "data": {
      "text/html": [
       "<div>\n",
       "<style scoped>\n",
       "    .dataframe tbody tr th:only-of-type {\n",
       "        vertical-align: middle;\n",
       "    }\n",
       "\n",
       "    .dataframe tbody tr th {\n",
       "        vertical-align: top;\n",
       "    }\n",
       "\n",
       "    .dataframe thead th {\n",
       "        text-align: right;\n",
       "    }\n",
       "</style>\n",
       "<table border=\"1\" class=\"dataframe\">\n",
       "  <thead>\n",
       "    <tr style=\"text-align: right;\">\n",
       "      <th></th>\n",
       "      <th>Date</th>\n",
       "      <th>Confirmed</th>\n",
       "      <th>Deaths</th>\n",
       "      <th>Recovered</th>\n",
       "      <th>Active</th>\n",
       "      <th>New cases</th>\n",
       "      <th>New deaths</th>\n",
       "      <th>New recovered</th>\n",
       "      <th>Deaths / 100 Cases</th>\n",
       "      <th>Recovered / 100 Cases</th>\n",
       "      <th>Deaths / 100 Recovered</th>\n",
       "      <th>No. of countries</th>\n",
       "    </tr>\n",
       "  </thead>\n",
       "  <tbody>\n",
       "    <tr>\n",
       "      <th>0</th>\n",
       "      <td>2020-01-22</td>\n",
       "      <td>555</td>\n",
       "      <td>17</td>\n",
       "      <td>28</td>\n",
       "      <td>510</td>\n",
       "      <td>0</td>\n",
       "      <td>0</td>\n",
       "      <td>0</td>\n",
       "      <td>3.06</td>\n",
       "      <td>5.05</td>\n",
       "      <td>60.71</td>\n",
       "      <td>6</td>\n",
       "    </tr>\n",
       "  </tbody>\n",
       "</table>\n",
       "</div>"
      ],
      "text/plain": [
       "         Date  Confirmed  Deaths  Recovered  Active  New cases  New deaths  \\\n",
       "0  2020-01-22        555      17         28     510          0           0   \n",
       "\n",
       "   New recovered  Deaths / 100 Cases  Recovered / 100 Cases  \\\n",
       "0              0                3.06                   5.05   \n",
       "\n",
       "   Deaths / 100 Recovered  No. of countries  \n",
       "0                   60.71                 6  "
      ]
     },
     "execution_count": 11,
     "metadata": {},
     "output_type": "execute_result"
    }
   ],
   "source": [
    "Day_Wise.head(1)"
   ]
  },
  {
   "cell_type": "code",
   "execution_count": 12,
   "id": "1a6ef9af-6552-4951-8da5-a2160627911e",
   "metadata": {},
   "outputs": [
    {
     "name": "stdout",
     "output_type": "stream",
     "text": [
      "Total Rows & Columns is:  (188, 12)\n",
      "<class 'pandas.core.frame.DataFrame'>\n",
      "RangeIndex: 188 entries, 0 to 187\n",
      "Data columns (total 12 columns):\n",
      " #   Column                  Non-Null Count  Dtype  \n",
      "---  ------                  --------------  -----  \n",
      " 0   Date                    188 non-null    object \n",
      " 1   Confirmed               188 non-null    int64  \n",
      " 2   Deaths                  188 non-null    int64  \n",
      " 3   Recovered               188 non-null    int64  \n",
      " 4   Active                  188 non-null    int64  \n",
      " 5   New cases               188 non-null    int64  \n",
      " 6   New deaths              188 non-null    int64  \n",
      " 7   New recovered           188 non-null    int64  \n",
      " 8   Deaths / 100 Cases      188 non-null    float64\n",
      " 9   Recovered / 100 Cases   188 non-null    float64\n",
      " 10  Deaths / 100 Recovered  188 non-null    float64\n",
      " 11  No. of countries        188 non-null    int64  \n",
      "dtypes: float64(3), int64(8), object(1)\n",
      "memory usage: 17.8+ KB\n"
     ]
    }
   ],
   "source": [
    "print(f\"Total Rows & Columns is: \",Day_Wise.shape)\n",
    "Day_Wise.info()"
   ]
  },
  {
   "cell_type": "code",
   "execution_count": 13,
   "id": "f1797fbd-d9fd-46ff-8ea9-a57074e055b0",
   "metadata": {},
   "outputs": [
    {
     "data": {
      "text/plain": [
       "Date                      datetime64[ns]\n",
       "Confirmed                          int64\n",
       "Deaths                             int64\n",
       "Recovered                          int64\n",
       "Active                             int64\n",
       "New cases                          int64\n",
       "New deaths                         int64\n",
       "New recovered                      int64\n",
       "Deaths / 100 Cases               float64\n",
       "Recovered / 100 Cases            float64\n",
       "Deaths / 100 Recovered           float64\n",
       "No. of countries                   int64\n",
       "dtype: object"
      ]
     },
     "execution_count": 13,
     "metadata": {},
     "output_type": "execute_result"
    }
   ],
   "source": [
    "# changing datatype of date column\n",
    "Day_Wise['Date']=pd.to_datetime(Day_Wise['Date'])\n",
    "\n",
    "# checking again datatypes\n",
    "Day_Wise.dtypes"
   ]
  },
  {
   "cell_type": "code",
   "execution_count": null,
   "id": "7110e3a7-10bd-4241-9c24-71920031ab4f",
   "metadata": {},
   "outputs": [],
   "source": []
  },
  {
   "cell_type": "markdown",
   "id": "f5a57301-8855-43c4-a7f0-8226798df338",
   "metadata": {},
   "source": [
    "# Data Cleaning Of Full_Grouped Table"
   ]
  },
  {
   "cell_type": "code",
   "execution_count": 14,
   "id": "6c5de71c-a247-46ef-81e1-c03d6e16dfc9",
   "metadata": {},
   "outputs": [
    {
     "data": {
      "text/html": [
       "<div>\n",
       "<style scoped>\n",
       "    .dataframe tbody tr th:only-of-type {\n",
       "        vertical-align: middle;\n",
       "    }\n",
       "\n",
       "    .dataframe tbody tr th {\n",
       "        vertical-align: top;\n",
       "    }\n",
       "\n",
       "    .dataframe thead th {\n",
       "        text-align: right;\n",
       "    }\n",
       "</style>\n",
       "<table border=\"1\" class=\"dataframe\">\n",
       "  <thead>\n",
       "    <tr style=\"text-align: right;\">\n",
       "      <th></th>\n",
       "      <th>Date</th>\n",
       "      <th>Country/Region</th>\n",
       "      <th>Confirmed</th>\n",
       "      <th>Deaths</th>\n",
       "      <th>Recovered</th>\n",
       "      <th>Active</th>\n",
       "      <th>New cases</th>\n",
       "      <th>New deaths</th>\n",
       "      <th>New recovered</th>\n",
       "      <th>WHO Region</th>\n",
       "    </tr>\n",
       "  </thead>\n",
       "  <tbody>\n",
       "    <tr>\n",
       "      <th>0</th>\n",
       "      <td>2020-01-22</td>\n",
       "      <td>Afghanistan</td>\n",
       "      <td>0</td>\n",
       "      <td>0</td>\n",
       "      <td>0</td>\n",
       "      <td>0</td>\n",
       "      <td>0</td>\n",
       "      <td>0</td>\n",
       "      <td>0</td>\n",
       "      <td>Eastern Mediterranean</td>\n",
       "    </tr>\n",
       "    <tr>\n",
       "      <th>1</th>\n",
       "      <td>2020-01-22</td>\n",
       "      <td>Albania</td>\n",
       "      <td>0</td>\n",
       "      <td>0</td>\n",
       "      <td>0</td>\n",
       "      <td>0</td>\n",
       "      <td>0</td>\n",
       "      <td>0</td>\n",
       "      <td>0</td>\n",
       "      <td>Europe</td>\n",
       "    </tr>\n",
       "  </tbody>\n",
       "</table>\n",
       "</div>"
      ],
      "text/plain": [
       "         Date Country/Region  Confirmed  Deaths  Recovered  Active  New cases  \\\n",
       "0  2020-01-22    Afghanistan          0       0          0       0          0   \n",
       "1  2020-01-22        Albania          0       0          0       0          0   \n",
       "\n",
       "   New deaths  New recovered             WHO Region  \n",
       "0           0              0  Eastern Mediterranean  \n",
       "1           0              0                 Europe  "
      ]
     },
     "execution_count": 14,
     "metadata": {},
     "output_type": "execute_result"
    }
   ],
   "source": [
    "Full_Grouped.head(2)"
   ]
  },
  {
   "cell_type": "code",
   "execution_count": 15,
   "id": "4c108f4d-83ea-4853-b32f-7bb4e30cc208",
   "metadata": {},
   "outputs": [
    {
     "name": "stdout",
     "output_type": "stream",
     "text": [
      "Total Rows & Columns is:  (35156, 10)\n",
      "<class 'pandas.core.frame.DataFrame'>\n",
      "RangeIndex: 35156 entries, 0 to 35155\n",
      "Data columns (total 10 columns):\n",
      " #   Column          Non-Null Count  Dtype \n",
      "---  ------          --------------  ----- \n",
      " 0   Date            35156 non-null  object\n",
      " 1   Country/Region  35156 non-null  object\n",
      " 2   Confirmed       35156 non-null  int64 \n",
      " 3   Deaths          35156 non-null  int64 \n",
      " 4   Recovered       35156 non-null  int64 \n",
      " 5   Active          35156 non-null  int64 \n",
      " 6   New cases       35156 non-null  int64 \n",
      " 7   New deaths      35156 non-null  int64 \n",
      " 8   New recovered   35156 non-null  int64 \n",
      " 9   WHO Region      35156 non-null  object\n",
      "dtypes: int64(7), object(3)\n",
      "memory usage: 2.7+ MB\n"
     ]
    }
   ],
   "source": [
    "print(f\"Total Rows & Columns is: \",Full_Grouped.shape)\n",
    "Full_Grouped.info()"
   ]
  },
  {
   "cell_type": "code",
   "execution_count": 16,
   "id": "ac370621-459b-4c4d-9d38-7fde145cf777",
   "metadata": {},
   "outputs": [
    {
     "data": {
      "text/plain": [
       "Date              datetime64[ns]\n",
       "Country/Region            object\n",
       "Confirmed                  int64\n",
       "Deaths                     int64\n",
       "Recovered                  int64\n",
       "Active                     int64\n",
       "New cases                  int64\n",
       "New deaths                 int64\n",
       "New recovered              int64\n",
       "WHO Region                object\n",
       "dtype: object"
      ]
     },
     "execution_count": 16,
     "metadata": {},
     "output_type": "execute_result"
    }
   ],
   "source": [
    "# changing date column datatypes object to datetime\n",
    "Full_Grouped['Date']=pd.to_datetime(Full_Grouped['Date'])\n",
    "\n",
    "# Checking again datatypes\n",
    "Full_Grouped.dtypes"
   ]
  },
  {
   "cell_type": "code",
   "execution_count": null,
   "id": "05fb15d2-80d8-460e-86f5-194ca51110af",
   "metadata": {},
   "outputs": [],
   "source": []
  },
  {
   "cell_type": "markdown",
   "id": "27253e4c-6d91-46fb-ad2e-c01c63f60d7f",
   "metadata": {},
   "source": [
    "# Data Cleaning Of USA_Country Table"
   ]
  },
  {
   "cell_type": "code",
   "execution_count": 17,
   "id": "1cf40cdd-a74e-4472-b59a-474c6fc5adb3",
   "metadata": {},
   "outputs": [
    {
     "data": {
      "text/html": [
       "<div>\n",
       "<style scoped>\n",
       "    .dataframe tbody tr th:only-of-type {\n",
       "        vertical-align: middle;\n",
       "    }\n",
       "\n",
       "    .dataframe tbody tr th {\n",
       "        vertical-align: top;\n",
       "    }\n",
       "\n",
       "    .dataframe thead th {\n",
       "        text-align: right;\n",
       "    }\n",
       "</style>\n",
       "<table border=\"1\" class=\"dataframe\">\n",
       "  <thead>\n",
       "    <tr style=\"text-align: right;\">\n",
       "      <th></th>\n",
       "      <th>UID</th>\n",
       "      <th>iso2</th>\n",
       "      <th>iso3</th>\n",
       "      <th>code3</th>\n",
       "      <th>FIPS</th>\n",
       "      <th>Admin2</th>\n",
       "      <th>Province_State</th>\n",
       "      <th>Country_Region</th>\n",
       "      <th>Lat</th>\n",
       "      <th>Long_</th>\n",
       "      <th>Combined_Key</th>\n",
       "      <th>Date</th>\n",
       "      <th>Confirmed</th>\n",
       "      <th>Deaths</th>\n",
       "    </tr>\n",
       "  </thead>\n",
       "  <tbody>\n",
       "    <tr>\n",
       "      <th>0</th>\n",
       "      <td>16</td>\n",
       "      <td>AS</td>\n",
       "      <td>ASM</td>\n",
       "      <td>16</td>\n",
       "      <td>60.0</td>\n",
       "      <td>NaN</td>\n",
       "      <td>American Samoa</td>\n",
       "      <td>US</td>\n",
       "      <td>-14.271000</td>\n",
       "      <td>-170.132000</td>\n",
       "      <td>American Samoa, US</td>\n",
       "      <td>1/22/20</td>\n",
       "      <td>0</td>\n",
       "      <td>0</td>\n",
       "    </tr>\n",
       "    <tr>\n",
       "      <th>1</th>\n",
       "      <td>316</td>\n",
       "      <td>GU</td>\n",
       "      <td>GUM</td>\n",
       "      <td>316</td>\n",
       "      <td>66.0</td>\n",
       "      <td>NaN</td>\n",
       "      <td>Guam</td>\n",
       "      <td>US</td>\n",
       "      <td>13.444300</td>\n",
       "      <td>144.793700</td>\n",
       "      <td>Guam, US</td>\n",
       "      <td>1/22/20</td>\n",
       "      <td>0</td>\n",
       "      <td>0</td>\n",
       "    </tr>\n",
       "    <tr>\n",
       "      <th>2</th>\n",
       "      <td>580</td>\n",
       "      <td>MP</td>\n",
       "      <td>MNP</td>\n",
       "      <td>580</td>\n",
       "      <td>69.0</td>\n",
       "      <td>NaN</td>\n",
       "      <td>Northern Mariana Islands</td>\n",
       "      <td>US</td>\n",
       "      <td>15.097900</td>\n",
       "      <td>145.673900</td>\n",
       "      <td>Northern Mariana Islands, US</td>\n",
       "      <td>1/22/20</td>\n",
       "      <td>0</td>\n",
       "      <td>0</td>\n",
       "    </tr>\n",
       "    <tr>\n",
       "      <th>3</th>\n",
       "      <td>63072001</td>\n",
       "      <td>PR</td>\n",
       "      <td>PRI</td>\n",
       "      <td>630</td>\n",
       "      <td>72001.0</td>\n",
       "      <td>Adjuntas</td>\n",
       "      <td>Puerto Rico</td>\n",
       "      <td>US</td>\n",
       "      <td>18.180117</td>\n",
       "      <td>-66.754367</td>\n",
       "      <td>Adjuntas, Puerto Rico, US</td>\n",
       "      <td>1/22/20</td>\n",
       "      <td>0</td>\n",
       "      <td>0</td>\n",
       "    </tr>\n",
       "    <tr>\n",
       "      <th>4</th>\n",
       "      <td>63072003</td>\n",
       "      <td>PR</td>\n",
       "      <td>PRI</td>\n",
       "      <td>630</td>\n",
       "      <td>72003.0</td>\n",
       "      <td>Aguada</td>\n",
       "      <td>Puerto Rico</td>\n",
       "      <td>US</td>\n",
       "      <td>18.360255</td>\n",
       "      <td>-67.175131</td>\n",
       "      <td>Aguada, Puerto Rico, US</td>\n",
       "      <td>1/22/20</td>\n",
       "      <td>0</td>\n",
       "      <td>0</td>\n",
       "    </tr>\n",
       "  </tbody>\n",
       "</table>\n",
       "</div>"
      ],
      "text/plain": [
       "        UID iso2 iso3  code3     FIPS    Admin2            Province_State  \\\n",
       "0        16   AS  ASM     16     60.0       NaN            American Samoa   \n",
       "1       316   GU  GUM    316     66.0       NaN                      Guam   \n",
       "2       580   MP  MNP    580     69.0       NaN  Northern Mariana Islands   \n",
       "3  63072001   PR  PRI    630  72001.0  Adjuntas               Puerto Rico   \n",
       "4  63072003   PR  PRI    630  72003.0    Aguada               Puerto Rico   \n",
       "\n",
       "  Country_Region        Lat       Long_                  Combined_Key  \\\n",
       "0             US -14.271000 -170.132000            American Samoa, US   \n",
       "1             US  13.444300  144.793700                      Guam, US   \n",
       "2             US  15.097900  145.673900  Northern Mariana Islands, US   \n",
       "3             US  18.180117  -66.754367     Adjuntas, Puerto Rico, US   \n",
       "4             US  18.360255  -67.175131       Aguada, Puerto Rico, US   \n",
       "\n",
       "      Date  Confirmed  Deaths  \n",
       "0  1/22/20          0       0  \n",
       "1  1/22/20          0       0  \n",
       "2  1/22/20          0       0  \n",
       "3  1/22/20          0       0  \n",
       "4  1/22/20          0       0  "
      ]
     },
     "execution_count": 17,
     "metadata": {},
     "output_type": "execute_result"
    }
   ],
   "source": [
    "USA_Country.head(5)"
   ]
  },
  {
   "cell_type": "code",
   "execution_count": 18,
   "id": "a743534f-dd67-4f34-b361-3ee4146a71f8",
   "metadata": {},
   "outputs": [
    {
     "name": "stdout",
     "output_type": "stream",
     "text": [
      "TIn this Dataset Total Rows & Columns has: (627920, 14)\n",
      "<class 'pandas.core.frame.DataFrame'>\n",
      "RangeIndex: 627920 entries, 0 to 627919\n",
      "Data columns (total 14 columns):\n",
      " #   Column          Non-Null Count   Dtype  \n",
      "---  ------          --------------   -----  \n",
      " 0   UID             627920 non-null  int64  \n",
      " 1   iso2            627920 non-null  object \n",
      " 2   iso3            627920 non-null  object \n",
      " 3   code3           627920 non-null  int64  \n",
      " 4   FIPS            626040 non-null  float64\n",
      " 5   Admin2          626792 non-null  object \n",
      " 6   Province_State  627920 non-null  object \n",
      " 7   Country_Region  627920 non-null  object \n",
      " 8   Lat             627920 non-null  float64\n",
      " 9   Long_           627920 non-null  float64\n",
      " 10  Combined_Key    627920 non-null  object \n",
      " 11  Date            627920 non-null  object \n",
      " 12  Confirmed       627920 non-null  int64  \n",
      " 13  Deaths          627920 non-null  int64  \n",
      "dtypes: float64(3), int64(4), object(7)\n",
      "memory usage: 67.1+ MB\n"
     ]
    }
   ],
   "source": [
    "print(f\"TIn this Dataset Total Rows & Columns has:\",USA_Country.shape)\n",
    "USA_Country.info()"
   ]
  },
  {
   "cell_type": "code",
   "execution_count": 19,
   "id": "457fee53-9f68-481c-a0dd-e3ca660e5936",
   "metadata": {},
   "outputs": [
    {
     "name": "stderr",
     "output_type": "stream",
     "text": [
      "C:\\Users\\admin\\AppData\\Local\\Temp\\ipykernel_11648\\3346972547.py:2: UserWarning: Could not infer format, so each element will be parsed individually, falling back to `dateutil`. To ensure parsing is consistent and as-expected, please specify a format.\n",
      "  USA_Country['Date']=pd.to_datetime(USA_Country['Date'])\n"
     ]
    },
    {
     "data": {
      "text/plain": [
       "UID                        int64\n",
       "iso2                      object\n",
       "iso3                      object\n",
       "code3                      int64\n",
       "FIPS                     float64\n",
       "Admin2                    object\n",
       "Province_State            object\n",
       "Country_Region            object\n",
       "Lat                      float64\n",
       "Long_                    float64\n",
       "Combined_Key              object\n",
       "Date              datetime64[ns]\n",
       "Confirmed                  int64\n",
       "Deaths                     int64\n",
       "dtype: object"
      ]
     },
     "execution_count": 19,
     "metadata": {},
     "output_type": "execute_result"
    }
   ],
   "source": [
    "# changing datatypes of date column object to date\n",
    "USA_Country['Date']=pd.to_datetime(USA_Country['Date'])\n",
    "\n",
    "# Checking again datatypes\n",
    "USA_Country.dtypes"
   ]
  },
  {
   "cell_type": "code",
   "execution_count": 20,
   "id": "b6d500bc-c2db-4885-b316-ece8724ab428",
   "metadata": {},
   "outputs": [
    {
     "name": "stdout",
     "output_type": "stream",
     "text": [
      "The missing values are as below\n",
      "UID                  0\n",
      "iso2                 0\n",
      "iso3                 0\n",
      "code3                0\n",
      "FIPS              1880\n",
      "Admin2            1128\n",
      "Province_State       0\n",
      "Country_Region       0\n",
      "Lat                  0\n",
      "Long_                0\n",
      "Combined_Key         0\n",
      "Date                 0\n",
      "Confirmed            0\n",
      "Deaths               0\n",
      "dtype: int64\n"
     ]
    }
   ],
   "source": [
    "# Find missing values \n",
    "missing_values = USA_Country.isnull().sum()\n",
    "print(f\"The missing values are as below\\n{missing_values}\")"
   ]
  },
  {
   "cell_type": "code",
   "execution_count": 21,
   "id": "513da5dd-a244-4ed0-a941-dcacb9748ef9",
   "metadata": {},
   "outputs": [
    {
     "name": "stderr",
     "output_type": "stream",
     "text": [
      "C:\\Users\\admin\\AppData\\Local\\Temp\\ipykernel_11648\\4085822116.py:2: FutureWarning: A value is trying to be set on a copy of a DataFrame or Series through chained assignment using an inplace method.\n",
      "The behavior will change in pandas 3.0. This inplace method will never work because the intermediate object on which we are setting values always behaves as a copy.\n",
      "\n",
      "For example, when doing 'df[col].method(value, inplace=True)', try using 'df.method({col: value}, inplace=True)' or df[col] = df[col].method(value) instead, to perform the operation inplace on the original object.\n",
      "\n",
      "\n",
      "  USA_Country['Admin2'].fillna(USA_Country['Admin2'].mode()[0],inplace=True)\n"
     ]
    },
    {
     "name": "stdout",
     "output_type": "stream",
     "text": [
      "The missing values are as below\n",
      "UID                  0\n",
      "iso2                 0\n",
      "iso3                 0\n",
      "code3                0\n",
      "FIPS              1880\n",
      "Admin2               0\n",
      "Province_State       0\n",
      "Country_Region       0\n",
      "Lat                  0\n",
      "Long_                0\n",
      "Combined_Key         0\n",
      "Date                 0\n",
      "Confirmed            0\n",
      "Deaths               0\n",
      "dtype: int64\n",
      "The missing values are as below\n",
      "UID               0\n",
      "iso2              0\n",
      "iso3              0\n",
      "code3             0\n",
      "FIPS              0\n",
      "Admin2            0\n",
      "Province_State    0\n",
      "Country_Region    0\n",
      "Lat               0\n",
      "Long_             0\n",
      "Combined_Key      0\n",
      "Date              0\n",
      "Confirmed         0\n",
      "Deaths            0\n",
      "dtype: int64\n"
     ]
    }
   ],
   "source": [
    "# filling missing values with mode of Admin2 column \n",
    "USA_Country['Admin2'].fillna(USA_Country['Admin2'].mode()[0],inplace=True)\n",
    "\n",
    "# checking again missing values\n",
    "missing_values = USA_Country.isnull().sum()\n",
    "print(f\"The missing values are as below\\n{missing_values}\")\n",
    "\n",
    "# filling missing values of FIPS columns with mean value\n",
    "USA_Country['FIPS']=USA_Country['FIPS'].fillna(USA_Country['FIPS'].mean())\n",
    "\n",
    "# checking again missing values\n",
    "missing_values = USA_Country.isnull().sum()\n",
    "print(f\"The missing values are as below\\n{missing_values}\")"
   ]
  },
  {
   "cell_type": "code",
   "execution_count": null,
   "id": "2c735d66-fae0-49d6-aa74-3fa8ecf60892",
   "metadata": {},
   "outputs": [],
   "source": []
  },
  {
   "cell_type": "markdown",
   "id": "fd85b69f-71ee-48c2-90c7-6762e5f273fa",
   "metadata": {},
   "source": [
    "# Data Cleaning Of Worldometer_data Table"
   ]
  },
  {
   "cell_type": "code",
   "execution_count": 22,
   "id": "3388a2a6-5d18-4a5b-84ba-dbf542d5ef5d",
   "metadata": {},
   "outputs": [
    {
     "data": {
      "text/html": [
       "<div>\n",
       "<style scoped>\n",
       "    .dataframe tbody tr th:only-of-type {\n",
       "        vertical-align: middle;\n",
       "    }\n",
       "\n",
       "    .dataframe tbody tr th {\n",
       "        vertical-align: top;\n",
       "    }\n",
       "\n",
       "    .dataframe thead th {\n",
       "        text-align: right;\n",
       "    }\n",
       "</style>\n",
       "<table border=\"1\" class=\"dataframe\">\n",
       "  <thead>\n",
       "    <tr style=\"text-align: right;\">\n",
       "      <th></th>\n",
       "      <th>Country/Region</th>\n",
       "      <th>Continent</th>\n",
       "      <th>Population</th>\n",
       "      <th>TotalCases</th>\n",
       "      <th>NewCases</th>\n",
       "      <th>TotalDeaths</th>\n",
       "      <th>NewDeaths</th>\n",
       "      <th>TotalRecovered</th>\n",
       "      <th>NewRecovered</th>\n",
       "      <th>ActiveCases</th>\n",
       "      <th>Serious,Critical</th>\n",
       "      <th>Tot Cases/1M pop</th>\n",
       "      <th>Deaths/1M pop</th>\n",
       "      <th>TotalTests</th>\n",
       "      <th>Tests/1M pop</th>\n",
       "      <th>WHO Region</th>\n",
       "    </tr>\n",
       "  </thead>\n",
       "  <tbody>\n",
       "    <tr>\n",
       "      <th>0</th>\n",
       "      <td>USA</td>\n",
       "      <td>North America</td>\n",
       "      <td>331198130.0</td>\n",
       "      <td>5032179</td>\n",
       "      <td>NaN</td>\n",
       "      <td>162804.0</td>\n",
       "      <td>NaN</td>\n",
       "      <td>2576668.0</td>\n",
       "      <td>NaN</td>\n",
       "      <td>2292707.0</td>\n",
       "      <td>18296.0</td>\n",
       "      <td>15194.0</td>\n",
       "      <td>492.0</td>\n",
       "      <td>63139605.0</td>\n",
       "      <td>190640.0</td>\n",
       "      <td>Americas</td>\n",
       "    </tr>\n",
       "    <tr>\n",
       "      <th>1</th>\n",
       "      <td>Brazil</td>\n",
       "      <td>South America</td>\n",
       "      <td>212710692.0</td>\n",
       "      <td>2917562</td>\n",
       "      <td>NaN</td>\n",
       "      <td>98644.0</td>\n",
       "      <td>NaN</td>\n",
       "      <td>2047660.0</td>\n",
       "      <td>NaN</td>\n",
       "      <td>771258.0</td>\n",
       "      <td>8318.0</td>\n",
       "      <td>13716.0</td>\n",
       "      <td>464.0</td>\n",
       "      <td>13206188.0</td>\n",
       "      <td>62085.0</td>\n",
       "      <td>Americas</td>\n",
       "    </tr>\n",
       "  </tbody>\n",
       "</table>\n",
       "</div>"
      ],
      "text/plain": [
       "  Country/Region      Continent   Population  TotalCases  NewCases  \\\n",
       "0            USA  North America  331198130.0     5032179       NaN   \n",
       "1         Brazil  South America  212710692.0     2917562       NaN   \n",
       "\n",
       "   TotalDeaths  NewDeaths  TotalRecovered  NewRecovered  ActiveCases  \\\n",
       "0     162804.0        NaN       2576668.0           NaN    2292707.0   \n",
       "1      98644.0        NaN       2047660.0           NaN     771258.0   \n",
       "\n",
       "   Serious,Critical  Tot Cases/1M pop  Deaths/1M pop  TotalTests  \\\n",
       "0           18296.0           15194.0          492.0  63139605.0   \n",
       "1            8318.0           13716.0          464.0  13206188.0   \n",
       "\n",
       "   Tests/1M pop WHO Region  \n",
       "0      190640.0   Americas  \n",
       "1       62085.0   Americas  "
      ]
     },
     "execution_count": 22,
     "metadata": {},
     "output_type": "execute_result"
    }
   ],
   "source": [
    "Worldometer_data.head(2)"
   ]
  },
  {
   "cell_type": "code",
   "execution_count": 23,
   "id": "f4a18c19-3a0a-4937-837d-cc14a139b947",
   "metadata": {},
   "outputs": [
    {
     "name": "stdout",
     "output_type": "stream",
     "text": [
      "In this Dataset Total Rows & Column has : (209, 16)\n",
      "<class 'pandas.core.frame.DataFrame'>\n",
      "RangeIndex: 209 entries, 0 to 208\n",
      "Data columns (total 16 columns):\n",
      " #   Column            Non-Null Count  Dtype  \n",
      "---  ------            --------------  -----  \n",
      " 0   Country/Region    209 non-null    object \n",
      " 1   Continent         208 non-null    object \n",
      " 2   Population        208 non-null    float64\n",
      " 3   TotalCases        209 non-null    int64  \n",
      " 4   NewCases          4 non-null      float64\n",
      " 5   TotalDeaths       188 non-null    float64\n",
      " 6   NewDeaths         3 non-null      float64\n",
      " 7   TotalRecovered    205 non-null    float64\n",
      " 8   NewRecovered      3 non-null      float64\n",
      " 9   ActiveCases       205 non-null    float64\n",
      " 10  Serious,Critical  122 non-null    float64\n",
      " 11  Tot Cases/1M pop  208 non-null    float64\n",
      " 12  Deaths/1M pop     187 non-null    float64\n",
      " 13  TotalTests        191 non-null    float64\n",
      " 14  Tests/1M pop      191 non-null    float64\n",
      " 15  WHO Region        184 non-null    object \n",
      "dtypes: float64(12), int64(1), object(3)\n",
      "memory usage: 26.3+ KB\n"
     ]
    }
   ],
   "source": [
    "print(f\"In this Dataset Total Rows & Column has :\", Worldometer_data.shape)\n",
    "\n",
    "Worldometer_data.info()"
   ]
  },
  {
   "cell_type": "code",
   "execution_count": 24,
   "id": "b5eed8e9-2b1d-45ef-b2f5-59e2c9c58733",
   "metadata": {},
   "outputs": [
    {
     "name": "stdout",
     "output_type": "stream",
     "text": [
      "The missing values are as below\n",
      "Country/Region        0\n",
      "Continent             1\n",
      "Population            1\n",
      "TotalCases            0\n",
      "NewCases            205\n",
      "TotalDeaths          21\n",
      "NewDeaths           206\n",
      "TotalRecovered        4\n",
      "NewRecovered        206\n",
      "ActiveCases           4\n",
      "Serious,Critical     87\n",
      "Tot Cases/1M pop      1\n",
      "Deaths/1M pop        22\n",
      "TotalTests           18\n",
      "Tests/1M pop         18\n",
      "WHO Region           25\n",
      "dtype: int64\n"
     ]
    },
    {
     "name": "stderr",
     "output_type": "stream",
     "text": [
      "C:\\Users\\admin\\AppData\\Local\\Temp\\ipykernel_11648\\1178266870.py:6: FutureWarning: A value is trying to be set on a copy of a DataFrame or Series through chained assignment using an inplace method.\n",
      "The behavior will change in pandas 3.0. This inplace method will never work because the intermediate object on which we are setting values always behaves as a copy.\n",
      "\n",
      "For example, when doing 'df[col].method(value, inplace=True)', try using 'df.method({col: value}, inplace=True)' or df[col] = df[col].method(value) instead, to perform the operation inplace on the original object.\n",
      "\n",
      "\n",
      "  Worldometer_data['Continent'].fillna(Worldometer_data['Continent'].mode()[0],inplace=True)\n",
      "C:\\Users\\admin\\AppData\\Local\\Temp\\ipykernel_11648\\1178266870.py:45: FutureWarning: A value is trying to be set on a copy of a DataFrame or Series through chained assignment using an inplace method.\n",
      "The behavior will change in pandas 3.0. This inplace method will never work because the intermediate object on which we are setting values always behaves as a copy.\n",
      "\n",
      "For example, when doing 'df[col].method(value, inplace=True)', try using 'df.method({col: value}, inplace=True)' or df[col] = df[col].method(value) instead, to perform the operation inplace on the original object.\n",
      "\n",
      "\n",
      "  Worldometer_data['WHO Region'].fillna(Worldometer_data['WHO Region'].mode()[0],inplace=True)\n"
     ]
    }
   ],
   "source": [
    "# find out missing values of columns\n",
    "missing_values = Worldometer_data.isnull().sum()\n",
    "print(f\"The missing values are as below\\n{missing_values}\")\n",
    "\n",
    "# # filling missing values of Continent column\n",
    "Worldometer_data['Continent'].fillna(Worldometer_data['Continent'].mode()[0],inplace=True)\n",
    "\n",
    "# # filling missing values of Population column\n",
    "Worldometer_data['Population']=Worldometer_data['Population'].fillna(Worldometer_data['Population'].mean())\n",
    "\n",
    "#  filling missing values of NewCases column\n",
    "Worldometer_data['NewCases']=Worldometer_data['NewCases'].fillna(0)\n",
    "\n",
    "# filling  missing values of Newdeaths column\n",
    "Worldometer_data['NewDeaths']=Worldometer_data['NewDeaths'].fillna(0)\n",
    "\n",
    "# filling missing values of NewRecovered column\n",
    "Worldometer_data['NewRecovered']=Worldometer_data['NewRecovered'].fillna(0)\n",
    "\n",
    "# filling missing values of TotalDeaths column\n",
    "Worldometer_data['TotalDeaths']=Worldometer_data['TotalDeaths'].fillna(Worldometer_data['TotalDeaths'].mean())\n",
    "\n",
    "# filling missing values of TotalRecovered column\n",
    "Worldometer_data['TotalRecovered']=Worldometer_data['TotalRecovered'].fillna(Worldometer_data['TotalRecovered'].mean())\n",
    "\n",
    "# filling missing values of Activecases column\n",
    "Worldometer_data['ActiveCases']=Worldometer_data['ActiveCases'].fillna(Worldometer_data['ActiveCases'].mean())\n",
    "\n",
    "# filling missing values of Serious,Critical column\n",
    "Worldometer_data['Serious,Critical']=Worldometer_data['Serious,Critical'].fillna(Worldometer_data['Serious,Critical'].mean())\n",
    "\n",
    "# filling missing values of Tot Cases/1M pop column\n",
    "Worldometer_data['Tot Cases/1M pop']=Worldometer_data['Tot Cases/1M pop'].fillna(Worldometer_data['Tot Cases/1M pop'].mean())\n",
    "\n",
    "# filling missing values of Deaths/1M pop column\n",
    "Worldometer_data['Deaths/1M pop']=Worldometer_data['Deaths/1M pop'].fillna(Worldometer_data['Deaths/1M pop'].mean())\n",
    "\n",
    "# filling missing values of TotalTests  column\n",
    "Worldometer_data['TotalTests']=Worldometer_data['TotalTests'].fillna(Worldometer_data['TotalTests'].mean())\n",
    "\n",
    "# filling missing values of Tests/1M pop  column\n",
    "Worldometer_data['Tests/1M pop']=Worldometer_data['Tests/1M pop'].fillna(Worldometer_data['Tests/1M pop'].mean())\n",
    "\n",
    "# filling missing values of WHO Region column\n",
    "Worldometer_data['WHO Region'].fillna(Worldometer_data['WHO Region'].mode()[0],inplace=True)\n",
    "\n"
   ]
  },
  {
   "cell_type": "code",
   "execution_count": 25,
   "id": "95e11b67-1c4e-4c61-bed1-e3e4beaf3bee",
   "metadata": {},
   "outputs": [
    {
     "data": {
      "text/plain": [
       "Country/Region       object\n",
       "Continent            object\n",
       "Population          float64\n",
       "TotalCases            int64\n",
       "NewCases              int64\n",
       "TotalDeaths           int64\n",
       "NewDeaths             int64\n",
       "TotalRecovered        int64\n",
       "NewRecovered          int64\n",
       "ActiveCases           int64\n",
       "Serious,Critical      int64\n",
       "Tot Cases/1M pop      int64\n",
       "Deaths/1M pop         int64\n",
       "TotalTests            int64\n",
       "Tests/1M pop          int64\n",
       "WHO Region           object\n",
       "dtype: object"
      ]
     },
     "execution_count": 25,
     "metadata": {},
     "output_type": "execute_result"
    }
   ],
   "source": [
    "# checking again datatype \n",
    "Worldometer_data.dtypes\n",
    "\n",
    "# changing datatypes float to int\n",
    "col_to_convert_int = ['NewCases', 'TotalDeaths', 'NewDeaths', 'TotalRecovered', 'NewRecovered', 'ActiveCases', 'Serious,Critical', 'Tot Cases/1M pop', 'Deaths/1M pop', 'TotalTests', 'Tests/1M pop']\n",
    "\n",
    "for col in col_to_convert_int:\n",
    "    Worldometer_data[col]=Worldometer_data[col].astype(int)\n",
    "    \n",
    "# Check if columns converted\n",
    "# print(Worldometer_data[col_to_convert_int].dtypes)\n",
    "\n",
    "# checking again datatype \n",
    "Worldometer_data.dtypes"
   ]
  },
  {
   "cell_type": "code",
   "execution_count": 26,
   "id": "184b8206-5c7e-4216-bd88-6ea7dc49577d",
   "metadata": {},
   "outputs": [],
   "source": [
    "# Prepare your data for data analysis \n",
    "# Analysing total cases Death,Recovered & active cases\n",
    "# Perform EDA on Data \n",
    "# Analysing those countries that gets badly affected by corona"
   ]
  },
  {
   "cell_type": "code",
   "execution_count": 27,
   "id": "40899abc-4276-48b8-9f60-2055b9ffe766",
   "metadata": {},
   "outputs": [
    {
     "name": "stdout",
     "output_type": "stream",
     "text": [
      "Total Cases is:  19169166\n",
      "Total Deaths is: 792639\n",
      "The Total Recovered Patience is:  12305703\n",
      "The Toatal Cases is:  5781843\n"
     ]
    }
   ],
   "source": [
    "# Calculating Toatl Cases\n",
    "Total_Cases = Worldometer_data['TotalCases'].sum()\n",
    "print(f\"Total Cases is: \", Total_Cases)\n",
    "\n",
    "# calculating Total Deaths\n",
    "Total_Deaths = Worldometer_data['TotalDeaths'].sum()\n",
    "print(f\"Total Deaths is:\" , Total_Deaths)\n",
    "\n",
    "# Calculating Total Recoved Patience\n",
    "Recovered_Patience = Worldometer_data['TotalRecovered'].sum()\n",
    "print(f\"The Total Recovered Patience is: \", Recovered_Patience)\n",
    "\n",
    "# Calculating Active Cases\n",
    "Active_Cases = Worldometer_data['ActiveCases'].sum()\n",
    "print(f\"The Toatal Cases is: \", Active_Cases)"
   ]
  },
  {
   "cell_type": "code",
   "execution_count": 28,
   "id": "1bac2e99-0671-4264-b18d-234aaa24b3c4",
   "metadata": {},
   "outputs": [
    {
     "name": "stdout",
     "output_type": "stream",
     "text": [
      "Country/Region\n",
      "USA                      5032179\n",
      "Brazil                   2917562\n",
      "India                    2025409\n",
      "Russia                    871894\n",
      "South Africa              538184\n",
      "                          ...   \n",
      "Caribbean Netherlands         13\n",
      "Falkland Islands              13\n",
      "Montserrat                    13\n",
      "Vatican City                  12\n",
      "Western Sahara                10\n",
      "Name: TotalCases, Length: 209, dtype: int64\n",
      "The Highest Cases found Country in USA & Total Cases is 5032179\n"
     ]
    }
   ],
   "source": [
    "# Analysing those countries that gets badly affected by corona\n",
    "grouped_Data = Worldometer_data.groupby('Country/Region')['TotalCases'].sum().sort_values(ascending=False)\n",
    "print(grouped_Data)\n",
    "\n",
    "# find out maximum cases by country\n",
    "Highes_Country = Worldometer_data.groupby('Country/Region')['TotalCases'].sum().idxmax()\n",
    "Highest_count = grouped_Data.max()\n",
    "print(f\"The Highest Cases found Country in {Highes_Country} & Total Cases is {Highest_count}\")"
   ]
  },
  {
   "cell_type": "code",
   "execution_count": null,
   "id": "1c1b702d-09ed-40ad-933c-4a3cb51aa629",
   "metadata": {},
   "outputs": [],
   "source": []
  }
 ],
 "metadata": {
  "kernelspec": {
   "display_name": "Python 3 (ipykernel)",
   "language": "python",
   "name": "python3"
  },
  "language_info": {
   "codemirror_mode": {
    "name": "ipython",
    "version": 3
   },
   "file_extension": ".py",
   "mimetype": "text/x-python",
   "name": "python",
   "nbconvert_exporter": "python",
   "pygments_lexer": "ipython3",
   "version": "3.13.2"
  }
 },
 "nbformat": 4,
 "nbformat_minor": 5
}
